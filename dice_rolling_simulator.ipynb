{
 "cells": [
  {
   "cell_type": "code",
   "execution_count": null,
   "metadata": {},
   "outputs": [],
   "source": [
    "#Project Brief\n",
    "\n",
    "# This program simulates rolling a dice. When the program runs, it will randomly choose a number between 1 and 6.\n",
    "# The program will print what that number is. It will ask you if you’d like to roll again. For this project, you’ll need\n",
    "# to set the min and max number that your dice can produce. For the average die, that means a\n",
    "# minimum of 1 and a maximum of 6. You’ll also want a function that randomly grabs a number\n",
    "# within that range and prints it."
   ]
  },
  {
   "cell_type": "code",
   "execution_count": 2,
   "metadata": {},
   "outputs": [
    {
     "name": "stdout",
     "output_type": "stream",
     "text": [
      "Initial roll: 1\n",
      "2\n",
      "4\n",
      "5\n",
      "6\n",
      "5\n",
      "Goodbye!\n"
     ]
    }
   ],
   "source": [
    "import random\n",
    "\n",
    "invalid_entry_count = 0\n",
    "\n",
    "# Ask the user if they want to roll the dice\n",
    "initial_roll = input('Would you like to roll the dice? Please type yes or no: ')\n",
    "\n",
    "while True:\n",
    "    \n",
    "    # ensure that the user's response is either 'yes' or 'no'\n",
    "    if initial_roll.lower() not in [\"yes\", \"no\"]:\n",
    "         # Handle invalid entries with increasing intensity\n",
    "        invalid_entry_count += 1\n",
    "        if invalid_entry_count == 1:\n",
    "            initial_roll = input(\"Please enter 'yes' or 'no'.\")\n",
    "            continue\n",
    "        elif invalid_entry_count == 2:\n",
    "            initial_roll = input(\"I said enter yes or no!\")\n",
    "            continue\n",
    "        elif invalid_entry_count == 3:\n",
    "            initial_roll = input(\"Do you speak english? I said enter yes or no! oui or non!!!\")\n",
    "            continue\n",
    "        else:\n",
    "            initial_roll = input(\"I give up.\")\n",
    "            break\n",
    "    elif initial_roll.lower() == \"no\":\n",
    "        # exit the loop if the user enters 'no'\n",
    "        print(\"Alright then be boring...\")\n",
    "        break\n",
    "\n",
    "    # generate the first random number between 1 and 6\n",
    "    random_result = random.randint(1, 6)\n",
    "    print(f\"Initial roll: {random_result}\")\n",
    "\n",
    "    random_result = random.randint(1, 6)\n",
    "\n",
    "    while True:\n",
    "\n",
    "        # generate random number between 1 and 6\n",
    "        random_result = random.randint(1, 6)\n",
    "    \n",
    "        user_answer = input('Would you like to roll again? Please type yes or no: ').lower()\n",
    "        #  ensures that any response from a user won't result in error\n",
    "        if user_answer not in [\"yes\", \"no\"]:\n",
    "            print(\"Please enter 'yes' or 'no'.\")\n",
    "            continue\n",
    "        elif user_answer == \"yes\":\n",
    "            print(random_result)\n",
    "            continue\n",
    "        elif user_answer == \"no\":\n",
    "            print(\"Goodbye!\")\n",
    "            break\n",
    "    break\n",
    "\n",
    "\n",
    "\n"
   ]
  }
 ],
 "metadata": {
  "kernelspec": {
   "display_name": "Python 3",
   "language": "python",
   "name": "python3"
  },
  "language_info": {
   "codemirror_mode": {
    "name": "ipython",
    "version": 3
   },
   "file_extension": ".py",
   "mimetype": "text/x-python",
   "name": "python",
   "nbconvert_exporter": "python",
   "pygments_lexer": "ipython3",
   "version": "3.12.1"
  }
 },
 "nbformat": 4,
 "nbformat_minor": 2
}
